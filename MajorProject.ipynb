{
 "cells": [
  {
   "cell_type": "markdown",
   "metadata": {
    "id": "fWqr7iGAvwg_"
   },
   "source": [
    "Importing the Dependencies"
   ]
  },
  {
   "cell_type": "code",
   "execution_count": 1,
   "metadata": {
    "executionInfo": {
     "elapsed": 768,
     "status": "ok",
     "timestamp": 1704376551100,
     "user": {
      "displayName": "Himanshu Aggarwal",
      "userId": "00022547391194973447"
     },
     "user_tz": -330
    },
    "id": "MKA8aje2v3Vv"
   },
   "outputs": [],
   "source": [
    "import numpy as np\n",
    "import pandas as pd\n",
    "from sklearn.preprocessing import StandardScaler\n",
    "from sklearn.model_selection import train_test_split\n",
    "from sklearn import svm\n",
    "from sklearn.metrics import accuracy_score"
   ]
  },
  {
   "cell_type": "markdown",
   "metadata": {
    "id": "_I9De6wdwp5S"
   },
   "source": [
    "Data Collection And Analysis\n",
    "\n",
    "APK Dataset"
   ]
  },
  {
   "cell_type": "code",
   "execution_count": 33,
   "metadata": {
    "executionInfo": {
     "elapsed": 448,
     "status": "ok",
     "timestamp": 1704376725588,
     "user": {
      "displayName": "Himanshu Aggarwal",
      "userId": "00022547391194973447"
     },
     "user_tz": -330
    },
    "id": "IISgZO70xALJ"
   },
   "outputs": [],
   "source": [
    "#loading the diabetes dataset\n",
    "apkDataset = pd.read_csv(\"AndroidDataset.csv\")"
   ]
  },
  {
   "cell_type": "code",
   "execution_count": 34,
   "metadata": {
    "colab": {
     "base_uri": "https://localhost:8080/",
     "height": 226
    },
    "executionInfo": {
     "elapsed": 495,
     "status": "ok",
     "timestamp": 1704376844469,
     "user": {
      "displayName": "Himanshu Aggarwal",
      "userId": "00022547391194973447"
     },
     "user_tz": -330
    },
    "id": "T8zCxzAvxXme",
    "outputId": "3d7c8f07-fd0e-498d-de69-d71aee030637"
   },
   "outputs": [
    {
     "data": {
      "text/html": [
       "<div>\n",
       "<style scoped>\n",
       "    .dataframe tbody tr th:only-of-type {\n",
       "        vertical-align: middle;\n",
       "    }\n",
       "\n",
       "    .dataframe tbody tr th {\n",
       "        vertical-align: top;\n",
       "    }\n",
       "\n",
       "    .dataframe thead th {\n",
       "        text-align: right;\n",
       "    }\n",
       "</style>\n",
       "<table border=\"1\" class=\"dataframe\">\n",
       "  <thead>\n",
       "    <tr style=\"text-align: right;\">\n",
       "      <th></th>\n",
       "      <th>Package</th>\n",
       "      <th>Category</th>\n",
       "      <th>Default : Access DRM content. (S)</th>\n",
       "      <th>Default : Access Email provider data (S)</th>\n",
       "      <th>Default : Access all system downloads (S)</th>\n",
       "      <th>Default : Access download manager. (S)</th>\n",
       "      <th>Default : Advanced download manager functions. (S)</th>\n",
       "      <th>Default : Audio File Access (S)</th>\n",
       "      <th>Default : Install DRM content. (S)</th>\n",
       "      <th>Default : Modify Google service configuration (S)</th>\n",
       "      <th>...</th>\n",
       "      <th>ACTION_REBOOT</th>\n",
       "      <th>ACTION_DOCK_EVENT</th>\n",
       "      <th>ACTION_GET_RESTRICTION_ENTRIES</th>\n",
       "      <th>ACTION_USER_INITIALIZE</th>\n",
       "      <th>ACTION_USER_FOREGROUND</th>\n",
       "      <th>ACTION_USER_BACKGROUND</th>\n",
       "      <th>ACTION_QUICK_CLOCK</th>\n",
       "      <th>ACTION_OPEN_DOCUMENT</th>\n",
       "      <th>ACTION_CREATE_DOCUMENT</th>\n",
       "      <th>OUTPUT</th>\n",
       "    </tr>\n",
       "  </thead>\n",
       "  <tbody>\n",
       "    <tr>\n",
       "      <th>0</th>\n",
       "      <td>a.gosms.theme.sky</td>\n",
       "      <td>Personalization</td>\n",
       "      <td>0</td>\n",
       "      <td>0</td>\n",
       "      <td>0</td>\n",
       "      <td>0</td>\n",
       "      <td>0</td>\n",
       "      <td>0</td>\n",
       "      <td>0</td>\n",
       "      <td>0</td>\n",
       "      <td>...</td>\n",
       "      <td>0</td>\n",
       "      <td>0</td>\n",
       "      <td>0</td>\n",
       "      <td>0</td>\n",
       "      <td>0</td>\n",
       "      <td>0</td>\n",
       "      <td>0</td>\n",
       "      <td>0</td>\n",
       "      <td>0</td>\n",
       "      <td>0</td>\n",
       "    </tr>\n",
       "    <tr>\n",
       "      <th>1</th>\n",
       "      <td>a1.golfshotfixex</td>\n",
       "      <td>Sports</td>\n",
       "      <td>0</td>\n",
       "      <td>0</td>\n",
       "      <td>0</td>\n",
       "      <td>0</td>\n",
       "      <td>0</td>\n",
       "      <td>0</td>\n",
       "      <td>0</td>\n",
       "      <td>0</td>\n",
       "      <td>...</td>\n",
       "      <td>0</td>\n",
       "      <td>0</td>\n",
       "      <td>0</td>\n",
       "      <td>0</td>\n",
       "      <td>0</td>\n",
       "      <td>0</td>\n",
       "      <td>0</td>\n",
       "      <td>0</td>\n",
       "      <td>0</td>\n",
       "      <td>0</td>\n",
       "    </tr>\n",
       "    <tr>\n",
       "      <th>2</th>\n",
       "      <td>a1.golfshotfixex</td>\n",
       "      <td>Sports</td>\n",
       "      <td>0</td>\n",
       "      <td>0</td>\n",
       "      <td>0</td>\n",
       "      <td>0</td>\n",
       "      <td>0</td>\n",
       "      <td>0</td>\n",
       "      <td>0</td>\n",
       "      <td>0</td>\n",
       "      <td>...</td>\n",
       "      <td>0</td>\n",
       "      <td>0</td>\n",
       "      <td>0</td>\n",
       "      <td>0</td>\n",
       "      <td>0</td>\n",
       "      <td>0</td>\n",
       "      <td>0</td>\n",
       "      <td>0</td>\n",
       "      <td>0</td>\n",
       "      <td>0</td>\n",
       "    </tr>\n",
       "    <tr>\n",
       "      <th>3</th>\n",
       "      <td>a2dp.Vol</td>\n",
       "      <td>Transportation</td>\n",
       "      <td>0</td>\n",
       "      <td>0</td>\n",
       "      <td>0</td>\n",
       "      <td>0</td>\n",
       "      <td>0</td>\n",
       "      <td>0</td>\n",
       "      <td>0</td>\n",
       "      <td>0</td>\n",
       "      <td>...</td>\n",
       "      <td>0</td>\n",
       "      <td>0</td>\n",
       "      <td>0</td>\n",
       "      <td>0</td>\n",
       "      <td>0</td>\n",
       "      <td>0</td>\n",
       "      <td>0</td>\n",
       "      <td>0</td>\n",
       "      <td>0</td>\n",
       "      <td>0</td>\n",
       "    </tr>\n",
       "    <tr>\n",
       "      <th>4</th>\n",
       "      <td>a2z.ChirpE</td>\n",
       "      <td>Business</td>\n",
       "      <td>0</td>\n",
       "      <td>0</td>\n",
       "      <td>0</td>\n",
       "      <td>0</td>\n",
       "      <td>0</td>\n",
       "      <td>0</td>\n",
       "      <td>0</td>\n",
       "      <td>0</td>\n",
       "      <td>...</td>\n",
       "      <td>0</td>\n",
       "      <td>0</td>\n",
       "      <td>0</td>\n",
       "      <td>0</td>\n",
       "      <td>0</td>\n",
       "      <td>0</td>\n",
       "      <td>0</td>\n",
       "      <td>0</td>\n",
       "      <td>0</td>\n",
       "      <td>0</td>\n",
       "    </tr>\n",
       "  </tbody>\n",
       "</table>\n",
       "<p>5 rows × 1430 columns</p>\n",
       "</div>"
      ],
      "text/plain": [
       "             Package         Category  Default : Access DRM content. (S)  \\\n",
       "0  a.gosms.theme.sky  Personalization                                  0   \n",
       "1   a1.golfshotfixex           Sports                                  0   \n",
       "2   a1.golfshotfixex           Sports                                  0   \n",
       "3           a2dp.Vol   Transportation                                  0   \n",
       "4         a2z.ChirpE         Business                                  0   \n",
       "\n",
       "   Default : Access Email provider data (S)  \\\n",
       "0                                         0   \n",
       "1                                         0   \n",
       "2                                         0   \n",
       "3                                         0   \n",
       "4                                         0   \n",
       "\n",
       "   Default : Access all system downloads (S)  \\\n",
       "0                                          0   \n",
       "1                                          0   \n",
       "2                                          0   \n",
       "3                                          0   \n",
       "4                                          0   \n",
       "\n",
       "   Default : Access download manager. (S)  \\\n",
       "0                                       0   \n",
       "1                                       0   \n",
       "2                                       0   \n",
       "3                                       0   \n",
       "4                                       0   \n",
       "\n",
       "   Default : Advanced download manager functions. (S)  \\\n",
       "0                                                  0    \n",
       "1                                                  0    \n",
       "2                                                  0    \n",
       "3                                                  0    \n",
       "4                                                  0    \n",
       "\n",
       "   Default : Audio File Access (S)  Default : Install DRM content. (S)  \\\n",
       "0                                0                                   0   \n",
       "1                                0                                   0   \n",
       "2                                0                                   0   \n",
       "3                                0                                   0   \n",
       "4                                0                                   0   \n",
       "\n",
       "   Default : Modify Google service configuration (S)  ...   ACTION_REBOOT   \\\n",
       "0                                                  0  ...                0   \n",
       "1                                                  0  ...                0   \n",
       "2                                                  0  ...                0   \n",
       "3                                                  0  ...                0   \n",
       "4                                                  0  ...                0   \n",
       "\n",
       "    ACTION_DOCK_EVENT    ACTION_GET_RESTRICTION_ENTRIES   \\\n",
       "0                    0                                 0   \n",
       "1                    0                                 0   \n",
       "2                    0                                 0   \n",
       "3                    0                                 0   \n",
       "4                    0                                 0   \n",
       "\n",
       "    ACTION_USER_INITIALIZE    ACTION_USER_FOREGROUND   \\\n",
       "0                         0                         0   \n",
       "1                         0                         0   \n",
       "2                         0                         0   \n",
       "3                         0                         0   \n",
       "4                         0                         0   \n",
       "\n",
       "    ACTION_USER_BACKGROUND    ACTION_QUICK_CLOCK    ACTION_OPEN_DOCUMENT   \\\n",
       "0                         0                     0                       0   \n",
       "1                         0                     0                       0   \n",
       "2                         0                     0                       0   \n",
       "3                         0                     0                       0   \n",
       "4                         0                     0                       0   \n",
       "\n",
       "    ACTION_CREATE_DOCUMENT   OUTPUT  \n",
       "0                         0       0  \n",
       "1                         0       0  \n",
       "2                         0       0  \n",
       "3                         0       0  \n",
       "4                         0       0  \n",
       "\n",
       "[5 rows x 1430 columns]"
      ]
     },
     "execution_count": 34,
     "metadata": {},
     "output_type": "execute_result"
    }
   ],
   "source": [
    "#printing first five rows of the dataset\n",
    "apkDataset.head()"
   ]
  },
  {
   "cell_type": "code",
   "execution_count": 35,
   "metadata": {
    "colab": {
     "base_uri": "https://localhost:8080/"
    },
    "executionInfo": {
     "elapsed": 475,
     "status": "ok",
     "timestamp": 1704376953016,
     "user": {
      "displayName": "Himanshu Aggarwal",
      "userId": "00022547391194973447"
     },
     "user_tz": -330
    },
    "id": "lF9SG3Nsxye0",
    "outputId": "b86b745b-d430-42de-b9e0-aa92f1d0ea42"
   },
   "outputs": [
    {
     "data": {
      "text/plain": [
       "(121189, 1430)"
      ]
     },
     "execution_count": 35,
     "metadata": {},
     "output_type": "execute_result"
    }
   ],
   "source": [
    "#counting number of dataset\n",
    "apkDataset.shape"
   ]
  },
  {
   "cell_type": "code",
   "execution_count": 36,
   "metadata": {
    "colab": {
     "base_uri": "https://localhost:8080/",
     "height": 320
    },
    "executionInfo": {
     "elapsed": 490,
     "status": "ok",
     "timestamp": 1704377049581,
     "user": {
      "displayName": "Himanshu Aggarwal",
      "userId": "00022547391194973447"
     },
     "user_tz": -330
    },
    "id": "IlAiDSqayQUq",
    "outputId": "9764d12e-33ea-4cd8-a8de-7ceaac3baae2"
   },
   "outputs": [
    {
     "data": {
      "text/html": [
       "<div>\n",
       "<style scoped>\n",
       "    .dataframe tbody tr th:only-of-type {\n",
       "        vertical-align: middle;\n",
       "    }\n",
       "\n",
       "    .dataframe tbody tr th {\n",
       "        vertical-align: top;\n",
       "    }\n",
       "\n",
       "    .dataframe thead th {\n",
       "        text-align: right;\n",
       "    }\n",
       "</style>\n",
       "<table border=\"1\" class=\"dataframe\">\n",
       "  <thead>\n",
       "    <tr style=\"text-align: right;\">\n",
       "      <th></th>\n",
       "      <th>Default : Access DRM content. (S)</th>\n",
       "      <th>Default : Access Email provider data (S)</th>\n",
       "      <th>Default : Access all system downloads (S)</th>\n",
       "      <th>Default : Access download manager. (S)</th>\n",
       "      <th>Default : Advanced download manager functions. (S)</th>\n",
       "      <th>Default : Audio File Access (S)</th>\n",
       "      <th>Default : Install DRM content. (S)</th>\n",
       "      <th>Default : Modify Google service configuration (S)</th>\n",
       "      <th>Default : Modify Google settings (S)</th>\n",
       "      <th>Default : Move application resources (S)</th>\n",
       "      <th>...</th>\n",
       "      <th>ACTION_REBOOT</th>\n",
       "      <th>ACTION_DOCK_EVENT</th>\n",
       "      <th>ACTION_GET_RESTRICTION_ENTRIES</th>\n",
       "      <th>ACTION_USER_INITIALIZE</th>\n",
       "      <th>ACTION_USER_FOREGROUND</th>\n",
       "      <th>ACTION_USER_BACKGROUND</th>\n",
       "      <th>ACTION_QUICK_CLOCK</th>\n",
       "      <th>ACTION_OPEN_DOCUMENT</th>\n",
       "      <th>ACTION_CREATE_DOCUMENT</th>\n",
       "      <th>OUTPUT</th>\n",
       "    </tr>\n",
       "  </thead>\n",
       "  <tbody>\n",
       "    <tr>\n",
       "      <th>count</th>\n",
       "      <td>121189.000000</td>\n",
       "      <td>121189.000000</td>\n",
       "      <td>121189.000000</td>\n",
       "      <td>121189.000000</td>\n",
       "      <td>121189.000000</td>\n",
       "      <td>121189.000000</td>\n",
       "      <td>121189.000000</td>\n",
       "      <td>121189.000000</td>\n",
       "      <td>121189.000000</td>\n",
       "      <td>121189.000000</td>\n",
       "      <td>...</td>\n",
       "      <td>121189.000000</td>\n",
       "      <td>121189.000000</td>\n",
       "      <td>121189.000000</td>\n",
       "      <td>121189.000000</td>\n",
       "      <td>121189.000000</td>\n",
       "      <td>121189.000000</td>\n",
       "      <td>121189.000000</td>\n",
       "      <td>121189.000000</td>\n",
       "      <td>121189.000000</td>\n",
       "      <td>121189.000000</td>\n",
       "    </tr>\n",
       "    <tr>\n",
       "      <th>mean</th>\n",
       "      <td>0.000182</td>\n",
       "      <td>0.001403</td>\n",
       "      <td>0.000289</td>\n",
       "      <td>0.000248</td>\n",
       "      <td>0.000033</td>\n",
       "      <td>0.011668</td>\n",
       "      <td>0.000462</td>\n",
       "      <td>0.000041</td>\n",
       "      <td>0.001362</td>\n",
       "      <td>0.001271</td>\n",
       "      <td>...</td>\n",
       "      <td>0.000215</td>\n",
       "      <td>0.000215</td>\n",
       "      <td>0.000215</td>\n",
       "      <td>0.000215</td>\n",
       "      <td>0.000215</td>\n",
       "      <td>0.000215</td>\n",
       "      <td>0.000215</td>\n",
       "      <td>0.000215</td>\n",
       "      <td>0.000215</td>\n",
       "      <td>0.082507</td>\n",
       "    </tr>\n",
       "    <tr>\n",
       "      <th>std</th>\n",
       "      <td>0.013472</td>\n",
       "      <td>0.037427</td>\n",
       "      <td>0.016992</td>\n",
       "      <td>0.015732</td>\n",
       "      <td>0.005745</td>\n",
       "      <td>0.107386</td>\n",
       "      <td>0.021491</td>\n",
       "      <td>0.006423</td>\n",
       "      <td>0.036874</td>\n",
       "      <td>0.035625</td>\n",
       "      <td>...</td>\n",
       "      <td>0.014646</td>\n",
       "      <td>0.014646</td>\n",
       "      <td>0.014646</td>\n",
       "      <td>0.014646</td>\n",
       "      <td>0.014646</td>\n",
       "      <td>0.014646</td>\n",
       "      <td>0.014646</td>\n",
       "      <td>0.014646</td>\n",
       "      <td>0.014646</td>\n",
       "      <td>0.275137</td>\n",
       "    </tr>\n",
       "    <tr>\n",
       "      <th>min</th>\n",
       "      <td>0.000000</td>\n",
       "      <td>0.000000</td>\n",
       "      <td>0.000000</td>\n",
       "      <td>0.000000</td>\n",
       "      <td>0.000000</td>\n",
       "      <td>0.000000</td>\n",
       "      <td>0.000000</td>\n",
       "      <td>0.000000</td>\n",
       "      <td>0.000000</td>\n",
       "      <td>0.000000</td>\n",
       "      <td>...</td>\n",
       "      <td>0.000000</td>\n",
       "      <td>0.000000</td>\n",
       "      <td>0.000000</td>\n",
       "      <td>0.000000</td>\n",
       "      <td>0.000000</td>\n",
       "      <td>0.000000</td>\n",
       "      <td>0.000000</td>\n",
       "      <td>0.000000</td>\n",
       "      <td>0.000000</td>\n",
       "      <td>0.000000</td>\n",
       "    </tr>\n",
       "    <tr>\n",
       "      <th>25%</th>\n",
       "      <td>0.000000</td>\n",
       "      <td>0.000000</td>\n",
       "      <td>0.000000</td>\n",
       "      <td>0.000000</td>\n",
       "      <td>0.000000</td>\n",
       "      <td>0.000000</td>\n",
       "      <td>0.000000</td>\n",
       "      <td>0.000000</td>\n",
       "      <td>0.000000</td>\n",
       "      <td>0.000000</td>\n",
       "      <td>...</td>\n",
       "      <td>0.000000</td>\n",
       "      <td>0.000000</td>\n",
       "      <td>0.000000</td>\n",
       "      <td>0.000000</td>\n",
       "      <td>0.000000</td>\n",
       "      <td>0.000000</td>\n",
       "      <td>0.000000</td>\n",
       "      <td>0.000000</td>\n",
       "      <td>0.000000</td>\n",
       "      <td>0.000000</td>\n",
       "    </tr>\n",
       "    <tr>\n",
       "      <th>50%</th>\n",
       "      <td>0.000000</td>\n",
       "      <td>0.000000</td>\n",
       "      <td>0.000000</td>\n",
       "      <td>0.000000</td>\n",
       "      <td>0.000000</td>\n",
       "      <td>0.000000</td>\n",
       "      <td>0.000000</td>\n",
       "      <td>0.000000</td>\n",
       "      <td>0.000000</td>\n",
       "      <td>0.000000</td>\n",
       "      <td>...</td>\n",
       "      <td>0.000000</td>\n",
       "      <td>0.000000</td>\n",
       "      <td>0.000000</td>\n",
       "      <td>0.000000</td>\n",
       "      <td>0.000000</td>\n",
       "      <td>0.000000</td>\n",
       "      <td>0.000000</td>\n",
       "      <td>0.000000</td>\n",
       "      <td>0.000000</td>\n",
       "      <td>0.000000</td>\n",
       "    </tr>\n",
       "    <tr>\n",
       "      <th>75%</th>\n",
       "      <td>0.000000</td>\n",
       "      <td>0.000000</td>\n",
       "      <td>0.000000</td>\n",
       "      <td>0.000000</td>\n",
       "      <td>0.000000</td>\n",
       "      <td>0.000000</td>\n",
       "      <td>0.000000</td>\n",
       "      <td>0.000000</td>\n",
       "      <td>0.000000</td>\n",
       "      <td>0.000000</td>\n",
       "      <td>...</td>\n",
       "      <td>0.000000</td>\n",
       "      <td>0.000000</td>\n",
       "      <td>0.000000</td>\n",
       "      <td>0.000000</td>\n",
       "      <td>0.000000</td>\n",
       "      <td>0.000000</td>\n",
       "      <td>0.000000</td>\n",
       "      <td>0.000000</td>\n",
       "      <td>0.000000</td>\n",
       "      <td>0.000000</td>\n",
       "    </tr>\n",
       "    <tr>\n",
       "      <th>max</th>\n",
       "      <td>1.000000</td>\n",
       "      <td>1.000000</td>\n",
       "      <td>1.000000</td>\n",
       "      <td>1.000000</td>\n",
       "      <td>1.000000</td>\n",
       "      <td>1.000000</td>\n",
       "      <td>1.000000</td>\n",
       "      <td>1.000000</td>\n",
       "      <td>1.000000</td>\n",
       "      <td>1.000000</td>\n",
       "      <td>...</td>\n",
       "      <td>1.000000</td>\n",
       "      <td>1.000000</td>\n",
       "      <td>1.000000</td>\n",
       "      <td>1.000000</td>\n",
       "      <td>1.000000</td>\n",
       "      <td>1.000000</td>\n",
       "      <td>1.000000</td>\n",
       "      <td>1.000000</td>\n",
       "      <td>1.000000</td>\n",
       "      <td>1.000000</td>\n",
       "    </tr>\n",
       "  </tbody>\n",
       "</table>\n",
       "<p>8 rows × 1428 columns</p>\n",
       "</div>"
      ],
      "text/plain": [
       "       Default : Access DRM content. (S)  \\\n",
       "count                      121189.000000   \n",
       "mean                            0.000182   \n",
       "std                             0.013472   \n",
       "min                             0.000000   \n",
       "25%                             0.000000   \n",
       "50%                             0.000000   \n",
       "75%                             0.000000   \n",
       "max                             1.000000   \n",
       "\n",
       "       Default : Access Email provider data (S)  \\\n",
       "count                             121189.000000   \n",
       "mean                                   0.001403   \n",
       "std                                    0.037427   \n",
       "min                                    0.000000   \n",
       "25%                                    0.000000   \n",
       "50%                                    0.000000   \n",
       "75%                                    0.000000   \n",
       "max                                    1.000000   \n",
       "\n",
       "       Default : Access all system downloads (S)  \\\n",
       "count                              121189.000000   \n",
       "mean                                    0.000289   \n",
       "std                                     0.016992   \n",
       "min                                     0.000000   \n",
       "25%                                     0.000000   \n",
       "50%                                     0.000000   \n",
       "75%                                     0.000000   \n",
       "max                                     1.000000   \n",
       "\n",
       "       Default : Access download manager. (S)  \\\n",
       "count                           121189.000000   \n",
       "mean                                 0.000248   \n",
       "std                                  0.015732   \n",
       "min                                  0.000000   \n",
       "25%                                  0.000000   \n",
       "50%                                  0.000000   \n",
       "75%                                  0.000000   \n",
       "max                                  1.000000   \n",
       "\n",
       "       Default : Advanced download manager functions. (S)  \\\n",
       "count                                      121189.000000    \n",
       "mean                                            0.000033    \n",
       "std                                             0.005745    \n",
       "min                                             0.000000    \n",
       "25%                                             0.000000    \n",
       "50%                                             0.000000    \n",
       "75%                                             0.000000    \n",
       "max                                             1.000000    \n",
       "\n",
       "       Default : Audio File Access (S)  Default : Install DRM content. (S)  \\\n",
       "count                    121189.000000                       121189.000000   \n",
       "mean                          0.011668                            0.000462   \n",
       "std                           0.107386                            0.021491   \n",
       "min                           0.000000                            0.000000   \n",
       "25%                           0.000000                            0.000000   \n",
       "50%                           0.000000                            0.000000   \n",
       "75%                           0.000000                            0.000000   \n",
       "max                           1.000000                            1.000000   \n",
       "\n",
       "       Default : Modify Google service configuration (S)  \\\n",
       "count                                      121189.000000   \n",
       "mean                                            0.000041   \n",
       "std                                             0.006423   \n",
       "min                                             0.000000   \n",
       "25%                                             0.000000   \n",
       "50%                                             0.000000   \n",
       "75%                                             0.000000   \n",
       "max                                             1.000000   \n",
       "\n",
       "       Default : Modify Google settings (S)  \\\n",
       "count                         121189.000000   \n",
       "mean                               0.001362   \n",
       "std                                0.036874   \n",
       "min                                0.000000   \n",
       "25%                                0.000000   \n",
       "50%                                0.000000   \n",
       "75%                                0.000000   \n",
       "max                                1.000000   \n",
       "\n",
       "       Default : Move application resources (S)  ...   ACTION_REBOOT   \\\n",
       "count                             121189.000000  ...    121189.000000   \n",
       "mean                                   0.001271  ...         0.000215   \n",
       "std                                    0.035625  ...         0.014646   \n",
       "min                                    0.000000  ...         0.000000   \n",
       "25%                                    0.000000  ...         0.000000   \n",
       "50%                                    0.000000  ...         0.000000   \n",
       "75%                                    0.000000  ...         0.000000   \n",
       "max                                    1.000000  ...         1.000000   \n",
       "\n",
       "        ACTION_DOCK_EVENT    ACTION_GET_RESTRICTION_ENTRIES   \\\n",
       "count        121189.000000                     121189.000000   \n",
       "mean              0.000215                          0.000215   \n",
       "std               0.014646                          0.014646   \n",
       "min               0.000000                          0.000000   \n",
       "25%               0.000000                          0.000000   \n",
       "50%               0.000000                          0.000000   \n",
       "75%               0.000000                          0.000000   \n",
       "max               1.000000                          1.000000   \n",
       "\n",
       "        ACTION_USER_INITIALIZE    ACTION_USER_FOREGROUND   \\\n",
       "count             121189.000000             121189.000000   \n",
       "mean                   0.000215                  0.000215   \n",
       "std                    0.014646                  0.014646   \n",
       "min                    0.000000                  0.000000   \n",
       "25%                    0.000000                  0.000000   \n",
       "50%                    0.000000                  0.000000   \n",
       "75%                    0.000000                  0.000000   \n",
       "max                    1.000000                  1.000000   \n",
       "\n",
       "        ACTION_USER_BACKGROUND    ACTION_QUICK_CLOCK    ACTION_OPEN_DOCUMENT   \\\n",
       "count             121189.000000         121189.000000           121189.000000   \n",
       "mean                   0.000215              0.000215                0.000215   \n",
       "std                    0.014646              0.014646                0.014646   \n",
       "min                    0.000000              0.000000                0.000000   \n",
       "25%                    0.000000              0.000000                0.000000   \n",
       "50%                    0.000000              0.000000                0.000000   \n",
       "75%                    0.000000              0.000000                0.000000   \n",
       "max                    1.000000              1.000000                1.000000   \n",
       "\n",
       "        ACTION_CREATE_DOCUMENT          OUTPUT  \n",
       "count             121189.000000  121189.000000  \n",
       "mean                   0.000215       0.082507  \n",
       "std                    0.014646       0.275137  \n",
       "min                    0.000000       0.000000  \n",
       "25%                    0.000000       0.000000  \n",
       "50%                    0.000000       0.000000  \n",
       "75%                    0.000000       0.000000  \n",
       "max                    1.000000       1.000000  \n",
       "\n",
       "[8 rows x 1428 columns]"
      ]
     },
     "execution_count": 36,
     "metadata": {},
     "output_type": "execute_result"
    }
   ],
   "source": [
    "#getting the statistical measures of the data\n",
    "apkDataset.describe()"
   ]
  },
  {
   "cell_type": "code",
   "execution_count": 37,
   "metadata": {
    "colab": {
     "base_uri": "https://localhost:8080/"
    },
    "executionInfo": {
     "elapsed": 446,
     "status": "ok",
     "timestamp": 1704377124949,
     "user": {
      "displayName": "Himanshu Aggarwal",
      "userId": "00022547391194973447"
     },
     "user_tz": -330
    },
    "id": "cQVVOSumyl1_",
    "outputId": "b1a820fb-13a9-4340-d860-1cce57e2e671"
   },
   "outputs": [
    {
     "data": {
      "text/plain": [
       "0    111190\n",
       "1      9999\n",
       "Name: OUTPUT, dtype: int64"
      ]
     },
     "execution_count": 37,
     "metadata": {},
     "output_type": "execute_result"
    }
   ],
   "source": [
    "apkDataset['OUTPUT'].value_counts()"
   ]
  },
  {
   "cell_type": "markdown",
   "metadata": {
    "id": "NzmZZ93Dy6pJ"
   },
   "source": [
    "0 -->safe\n",
    "\n",
    "1-->unsafe"
   ]
  },
  {
   "cell_type": "code",
   "execution_count": 38,
   "metadata": {
    "colab": {
     "base_uri": "https://localhost:8080/",
     "height": 163
    },
    "executionInfo": {
     "elapsed": 8,
     "status": "ok",
     "timestamp": 1704377245727,
     "user": {
      "displayName": "Himanshu Aggarwal",
      "userId": "00022547391194973447"
     },
     "user_tz": -330
    },
    "id": "_32JOCS0zDsu",
    "outputId": "ba29fb20-9d98-4916-9984-0698aa9edfa3"
   },
   "outputs": [
    {
     "data": {
      "text/html": [
       "<div>\n",
       "<style scoped>\n",
       "    .dataframe tbody tr th:only-of-type {\n",
       "        vertical-align: middle;\n",
       "    }\n",
       "\n",
       "    .dataframe tbody tr th {\n",
       "        vertical-align: top;\n",
       "    }\n",
       "\n",
       "    .dataframe thead th {\n",
       "        text-align: right;\n",
       "    }\n",
       "</style>\n",
       "<table border=\"1\" class=\"dataframe\">\n",
       "  <thead>\n",
       "    <tr style=\"text-align: right;\">\n",
       "      <th></th>\n",
       "      <th>Default : Access DRM content. (S)</th>\n",
       "      <th>Default : Access Email provider data (S)</th>\n",
       "      <th>Default : Access all system downloads (S)</th>\n",
       "      <th>Default : Access download manager. (S)</th>\n",
       "      <th>Default : Advanced download manager functions. (S)</th>\n",
       "      <th>Default : Audio File Access (S)</th>\n",
       "      <th>Default : Install DRM content. (S)</th>\n",
       "      <th>Default : Modify Google service configuration (S)</th>\n",
       "      <th>Default : Modify Google settings (S)</th>\n",
       "      <th>Default : Move application resources (S)</th>\n",
       "      <th>...</th>\n",
       "      <th>ACTION_NEW_OUTGOING_CALL</th>\n",
       "      <th>ACTION_REBOOT</th>\n",
       "      <th>ACTION_DOCK_EVENT</th>\n",
       "      <th>ACTION_GET_RESTRICTION_ENTRIES</th>\n",
       "      <th>ACTION_USER_INITIALIZE</th>\n",
       "      <th>ACTION_USER_FOREGROUND</th>\n",
       "      <th>ACTION_USER_BACKGROUND</th>\n",
       "      <th>ACTION_QUICK_CLOCK</th>\n",
       "      <th>ACTION_OPEN_DOCUMENT</th>\n",
       "      <th>ACTION_CREATE_DOCUMENT</th>\n",
       "    </tr>\n",
       "    <tr>\n",
       "      <th>OUTPUT</th>\n",
       "      <th></th>\n",
       "      <th></th>\n",
       "      <th></th>\n",
       "      <th></th>\n",
       "      <th></th>\n",
       "      <th></th>\n",
       "      <th></th>\n",
       "      <th></th>\n",
       "      <th></th>\n",
       "      <th></th>\n",
       "      <th></th>\n",
       "      <th></th>\n",
       "      <th></th>\n",
       "      <th></th>\n",
       "      <th></th>\n",
       "      <th></th>\n",
       "      <th></th>\n",
       "      <th></th>\n",
       "      <th></th>\n",
       "      <th></th>\n",
       "      <th></th>\n",
       "    </tr>\n",
       "  </thead>\n",
       "  <tbody>\n",
       "    <tr>\n",
       "      <th>0</th>\n",
       "      <td>0.000198</td>\n",
       "      <td>0.001223</td>\n",
       "      <td>0.000054</td>\n",
       "      <td>0.000261</td>\n",
       "      <td>0.000036</td>\n",
       "      <td>0.000216</td>\n",
       "      <td>0.00045</td>\n",
       "      <td>0.000036</td>\n",
       "      <td>0.000099</td>\n",
       "      <td>0.000108</td>\n",
       "      <td>...</td>\n",
       "      <td>0.000234</td>\n",
       "      <td>0.000234</td>\n",
       "      <td>0.000234</td>\n",
       "      <td>0.000234</td>\n",
       "      <td>0.000234</td>\n",
       "      <td>0.000234</td>\n",
       "      <td>0.000234</td>\n",
       "      <td>0.000234</td>\n",
       "      <td>0.000234</td>\n",
       "      <td>0.000234</td>\n",
       "    </tr>\n",
       "    <tr>\n",
       "      <th>1</th>\n",
       "      <td>0.000000</td>\n",
       "      <td>0.003400</td>\n",
       "      <td>0.002900</td>\n",
       "      <td>0.000100</td>\n",
       "      <td>0.000000</td>\n",
       "      <td>0.139014</td>\n",
       "      <td>0.00060</td>\n",
       "      <td>0.000100</td>\n",
       "      <td>0.015402</td>\n",
       "      <td>0.014201</td>\n",
       "      <td>...</td>\n",
       "      <td>0.000000</td>\n",
       "      <td>0.000000</td>\n",
       "      <td>0.000000</td>\n",
       "      <td>0.000000</td>\n",
       "      <td>0.000000</td>\n",
       "      <td>0.000000</td>\n",
       "      <td>0.000000</td>\n",
       "      <td>0.000000</td>\n",
       "      <td>0.000000</td>\n",
       "      <td>0.000000</td>\n",
       "    </tr>\n",
       "  </tbody>\n",
       "</table>\n",
       "<p>2 rows × 1427 columns</p>\n",
       "</div>"
      ],
      "text/plain": [
       "        Default : Access DRM content. (S)  \\\n",
       "OUTPUT                                      \n",
       "0                                0.000198   \n",
       "1                                0.000000   \n",
       "\n",
       "        Default : Access Email provider data (S)  \\\n",
       "OUTPUT                                             \n",
       "0                                       0.001223   \n",
       "1                                       0.003400   \n",
       "\n",
       "        Default : Access all system downloads (S)  \\\n",
       "OUTPUT                                              \n",
       "0                                        0.000054   \n",
       "1                                        0.002900   \n",
       "\n",
       "        Default : Access download manager. (S)  \\\n",
       "OUTPUT                                           \n",
       "0                                     0.000261   \n",
       "1                                     0.000100   \n",
       "\n",
       "        Default : Advanced download manager functions. (S)  \\\n",
       "OUTPUT                                                       \n",
       "0                                                0.000036    \n",
       "1                                                0.000000    \n",
       "\n",
       "        Default : Audio File Access (S)  Default : Install DRM content. (S)  \\\n",
       "OUTPUT                                                                        \n",
       "0                              0.000216                             0.00045   \n",
       "1                              0.139014                             0.00060   \n",
       "\n",
       "        Default : Modify Google service configuration (S)  \\\n",
       "OUTPUT                                                      \n",
       "0                                                0.000036   \n",
       "1                                                0.000100   \n",
       "\n",
       "        Default : Modify Google settings (S)  \\\n",
       "OUTPUT                                         \n",
       "0                                   0.000099   \n",
       "1                                   0.015402   \n",
       "\n",
       "        Default : Move application resources (S)  ...  \\\n",
       "OUTPUT                                            ...   \n",
       "0                                       0.000108  ...   \n",
       "1                                       0.014201  ...   \n",
       "\n",
       "         ACTION_NEW_OUTGOING_CALL    ACTION_REBOOT    ACTION_DOCK_EVENT   \\\n",
       "OUTPUT                                                                     \n",
       "0                         0.000234         0.000234             0.000234   \n",
       "1                         0.000000         0.000000             0.000000   \n",
       "\n",
       "         ACTION_GET_RESTRICTION_ENTRIES    ACTION_USER_INITIALIZE   \\\n",
       "OUTPUT                                                               \n",
       "0                               0.000234                  0.000234   \n",
       "1                               0.000000                  0.000000   \n",
       "\n",
       "         ACTION_USER_FOREGROUND    ACTION_USER_BACKGROUND   \\\n",
       "OUTPUT                                                       \n",
       "0                       0.000234                  0.000234   \n",
       "1                       0.000000                  0.000000   \n",
       "\n",
       "         ACTION_QUICK_CLOCK    ACTION_OPEN_DOCUMENT    ACTION_CREATE_DOCUMENT   \n",
       "OUTPUT                                                                          \n",
       "0                   0.000234                0.000234                  0.000234  \n",
       "1                   0.000000                0.000000                  0.000000  \n",
       "\n",
       "[2 rows x 1427 columns]"
      ]
     },
     "execution_count": 38,
     "metadata": {},
     "output_type": "execute_result"
    }
   ],
   "source": [
    "apkDataset.groupby('OUTPUT').mean(numeric_only = True)"
   ]
  },
  {
   "cell_type": "code",
   "execution_count": 39,
   "metadata": {
    "executionInfo": {
     "elapsed": 477,
     "status": "ok",
     "timestamp": 1704377419395,
     "user": {
      "displayName": "Himanshu Aggarwal",
      "userId": "00022547391194973447"
     },
     "user_tz": -330
    },
    "id": "U-MhWpvyzbY_"
   },
   "outputs": [],
   "source": [
    "#seperating the data and labels\n",
    "X = apkDataset.drop(columns=\"OUTPUT\",axis=1)\n",
    "X = X.drop(columns=\"Package\",axis=1)\n",
    "X = X.drop(columns=\"Category\",axis=1)\n",
    "Y = apkDataset['OUTPUT']"
   ]
  },
  {
   "cell_type": "code",
   "execution_count": 40,
   "metadata": {
    "colab": {
     "base_uri": "https://localhost:8080/"
    },
    "executionInfo": {
     "elapsed": 501,
     "status": "ok",
     "timestamp": 1704377430284,
     "user": {
      "displayName": "Himanshu Aggarwal",
      "userId": "00022547391194973447"
     },
     "user_tz": -330
    },
    "id": "7NxI06Kvz5MG",
    "outputId": "c144d0b8-69b7-4c29-d15a-8ed8037c6582"
   },
   "outputs": [
    {
     "name": "stdout",
     "output_type": "stream",
     "text": [
      "        Default : Access DRM content. (S)  \\\n",
      "0                                       0   \n",
      "1                                       0   \n",
      "2                                       0   \n",
      "3                                       0   \n",
      "4                                       0   \n",
      "...                                   ...   \n",
      "121184                                  0   \n",
      "121185                                  0   \n",
      "121186                                  0   \n",
      "121187                                  0   \n",
      "121188                                  0   \n",
      "\n",
      "        Default : Access Email provider data (S)  \\\n",
      "0                                              0   \n",
      "1                                              0   \n",
      "2                                              0   \n",
      "3                                              0   \n",
      "4                                              0   \n",
      "...                                          ...   \n",
      "121184                                         0   \n",
      "121185                                         0   \n",
      "121186                                         0   \n",
      "121187                                         0   \n",
      "121188                                         0   \n",
      "\n",
      "        Default : Access all system downloads (S)  \\\n",
      "0                                               0   \n",
      "1                                               0   \n",
      "2                                               0   \n",
      "3                                               0   \n",
      "4                                               0   \n",
      "...                                           ...   \n",
      "121184                                          0   \n",
      "121185                                          0   \n",
      "121186                                          0   \n",
      "121187                                          0   \n",
      "121188                                          0   \n",
      "\n",
      "        Default : Access download manager. (S)  \\\n",
      "0                                            0   \n",
      "1                                            0   \n",
      "2                                            0   \n",
      "3                                            0   \n",
      "4                                            0   \n",
      "...                                        ...   \n",
      "121184                                       0   \n",
      "121185                                       0   \n",
      "121186                                       0   \n",
      "121187                                       0   \n",
      "121188                                       0   \n",
      "\n",
      "        Default : Advanced download manager functions. (S)  \\\n",
      "0                                                       0    \n",
      "1                                                       0    \n",
      "2                                                       0    \n",
      "3                                                       0    \n",
      "4                                                       0    \n",
      "...                                                   ...    \n",
      "121184                                                  0    \n",
      "121185                                                  0    \n",
      "121186                                                  0    \n",
      "121187                                                  0    \n",
      "121188                                                  0    \n",
      "\n",
      "        Default : Audio File Access (S)  Default : Install DRM content. (S)  \\\n",
      "0                                     0                                   0   \n",
      "1                                     0                                   0   \n",
      "2                                     0                                   0   \n",
      "3                                     0                                   0   \n",
      "4                                     0                                   0   \n",
      "...                                 ...                                 ...   \n",
      "121184                                0                                   0   \n",
      "121185                                1                                   0   \n",
      "121186                                0                                   0   \n",
      "121187                                0                                   0   \n",
      "121188                                0                                   0   \n",
      "\n",
      "        Default : Modify Google service configuration (S)  \\\n",
      "0                                                       0   \n",
      "1                                                       0   \n",
      "2                                                       0   \n",
      "3                                                       0   \n",
      "4                                                       0   \n",
      "...                                                   ...   \n",
      "121184                                                  0   \n",
      "121185                                                  0   \n",
      "121186                                                  0   \n",
      "121187                                                  0   \n",
      "121188                                                  0   \n",
      "\n",
      "        Default : Modify Google settings (S)  \\\n",
      "0                                          0   \n",
      "1                                          0   \n",
      "2                                          0   \n",
      "3                                          0   \n",
      "4                                          0   \n",
      "...                                      ...   \n",
      "121184                                     0   \n",
      "121185                                     0   \n",
      "121186                                     0   \n",
      "121187                                     0   \n",
      "121188                                     0   \n",
      "\n",
      "        Default : Move application resources (S)  ...  \\\n",
      "0                                              0  ...   \n",
      "1                                              0  ...   \n",
      "2                                              0  ...   \n",
      "3                                              0  ...   \n",
      "4                                              0  ...   \n",
      "...                                          ...  ...   \n",
      "121184                                         0  ...   \n",
      "121185                                         0  ...   \n",
      "121186                                         0  ...   \n",
      "121187                                         0  ...   \n",
      "121188                                         0  ...   \n",
      "\n",
      "         ACTION_NEW_OUTGOING_CALL    ACTION_REBOOT    ACTION_DOCK_EVENT   \\\n",
      "0                                0                0                    0   \n",
      "1                                0                0                    0   \n",
      "2                                0                0                    0   \n",
      "3                                0                0                    0   \n",
      "4                                0                0                    0   \n",
      "...                            ...              ...                  ...   \n",
      "121184                           0                0                    0   \n",
      "121185                           0                0                    0   \n",
      "121186                           0                0                    0   \n",
      "121187                           0                0                    0   \n",
      "121188                           0                0                    0   \n",
      "\n",
      "         ACTION_GET_RESTRICTION_ENTRIES    ACTION_USER_INITIALIZE   \\\n",
      "0                                      0                         0   \n",
      "1                                      0                         0   \n",
      "2                                      0                         0   \n",
      "3                                      0                         0   \n",
      "4                                      0                         0   \n",
      "...                                  ...                       ...   \n",
      "121184                                 0                         0   \n",
      "121185                                 0                         0   \n",
      "121186                                 0                         0   \n",
      "121187                                 0                         0   \n",
      "121188                                 0                         0   \n",
      "\n",
      "         ACTION_USER_FOREGROUND    ACTION_USER_BACKGROUND   \\\n",
      "0                              0                         0   \n",
      "1                              0                         0   \n",
      "2                              0                         0   \n",
      "3                              0                         0   \n",
      "4                              0                         0   \n",
      "...                          ...                       ...   \n",
      "121184                         0                         0   \n",
      "121185                         0                         0   \n",
      "121186                         0                         0   \n",
      "121187                         0                         0   \n",
      "121188                         0                         0   \n",
      "\n",
      "         ACTION_QUICK_CLOCK    ACTION_OPEN_DOCUMENT    ACTION_CREATE_DOCUMENT   \n",
      "0                          0                       0                         0  \n",
      "1                          0                       0                         0  \n",
      "2                          0                       0                         0  \n",
      "3                          0                       0                         0  \n",
      "4                          0                       0                         0  \n",
      "...                      ...                     ...                       ...  \n",
      "121184                     0                       0                         0  \n",
      "121185                     0                       0                         0  \n",
      "121186                     0                       0                         0  \n",
      "121187                     0                       0                         0  \n",
      "121188                     0                       0                         0  \n",
      "\n",
      "[121189 rows x 1427 columns]\n"
     ]
    }
   ],
   "source": [
    "print(X)"
   ]
  },
  {
   "cell_type": "code",
   "execution_count": 41,
   "metadata": {
    "colab": {
     "base_uri": "https://localhost:8080/"
    },
    "executionInfo": {
     "elapsed": 488,
     "status": "ok",
     "timestamp": 1704377455473,
     "user": {
      "displayName": "Himanshu Aggarwal",
      "userId": "00022547391194973447"
     },
     "user_tz": -330
    },
    "id": "7vKkevGxz-50",
    "outputId": "ea7c2886-eda1-491a-9eb5-2f8ccd917783"
   },
   "outputs": [
    {
     "name": "stdout",
     "output_type": "stream",
     "text": [
      "0         0\n",
      "1         0\n",
      "2         0\n",
      "3         0\n",
      "4         0\n",
      "         ..\n",
      "121184    1\n",
      "121185    1\n",
      "121186    1\n",
      "121187    1\n",
      "121188    1\n",
      "Name: OUTPUT, Length: 121189, dtype: int64\n"
     ]
    }
   ],
   "source": [
    "print(Y)"
   ]
  },
  {
   "cell_type": "markdown",
   "metadata": {
    "id": "xykPdnLW0EQL"
   },
   "source": [
    "DATA Standardization"
   ]
  },
  {
   "cell_type": "code",
   "execution_count": 42,
   "metadata": {
    "executionInfo": {
     "elapsed": 821,
     "status": "ok",
     "timestamp": 1704377540999,
     "user": {
      "displayName": "Himanshu Aggarwal",
      "userId": "00022547391194973447"
     },
     "user_tz": -330
    },
    "id": "UIYa5Tvz0HgJ"
   },
   "outputs": [],
   "source": [
    "scaler = StandardScaler()"
   ]
  },
  {
   "cell_type": "code",
   "execution_count": 43,
   "metadata": {
    "colab": {
     "base_uri": "https://localhost:8080/",
     "height": 51
    },
    "executionInfo": {
     "elapsed": 510,
     "status": "ok",
     "timestamp": 1704377565508,
     "user": {
      "displayName": "Himanshu Aggarwal",
      "userId": "00022547391194973447"
     },
     "user_tz": -330
    },
    "id": "ouBrJgj00XGq",
    "outputId": "c441568c-56cb-4106-cde4-063257408112"
   },
   "outputs": [
    {
     "data": {
      "text/html": [
       "<style>#sk-container-id-3 {color: black;}#sk-container-id-3 pre{padding: 0;}#sk-container-id-3 div.sk-toggleable {background-color: white;}#sk-container-id-3 label.sk-toggleable__label {cursor: pointer;display: block;width: 100%;margin-bottom: 0;padding: 0.3em;box-sizing: border-box;text-align: center;}#sk-container-id-3 label.sk-toggleable__label-arrow:before {content: \"▸\";float: left;margin-right: 0.25em;color: #696969;}#sk-container-id-3 label.sk-toggleable__label-arrow:hover:before {color: black;}#sk-container-id-3 div.sk-estimator:hover label.sk-toggleable__label-arrow:before {color: black;}#sk-container-id-3 div.sk-toggleable__content {max-height: 0;max-width: 0;overflow: hidden;text-align: left;background-color: #f0f8ff;}#sk-container-id-3 div.sk-toggleable__content pre {margin: 0.2em;color: black;border-radius: 0.25em;background-color: #f0f8ff;}#sk-container-id-3 input.sk-toggleable__control:checked~div.sk-toggleable__content {max-height: 200px;max-width: 100%;overflow: auto;}#sk-container-id-3 input.sk-toggleable__control:checked~label.sk-toggleable__label-arrow:before {content: \"▾\";}#sk-container-id-3 div.sk-estimator input.sk-toggleable__control:checked~label.sk-toggleable__label {background-color: #d4ebff;}#sk-container-id-3 div.sk-label input.sk-toggleable__control:checked~label.sk-toggleable__label {background-color: #d4ebff;}#sk-container-id-3 input.sk-hidden--visually {border: 0;clip: rect(1px 1px 1px 1px);clip: rect(1px, 1px, 1px, 1px);height: 1px;margin: -1px;overflow: hidden;padding: 0;position: absolute;width: 1px;}#sk-container-id-3 div.sk-estimator {font-family: monospace;background-color: #f0f8ff;border: 1px dotted black;border-radius: 0.25em;box-sizing: border-box;margin-bottom: 0.5em;}#sk-container-id-3 div.sk-estimator:hover {background-color: #d4ebff;}#sk-container-id-3 div.sk-parallel-item::after {content: \"\";width: 100%;border-bottom: 1px solid gray;flex-grow: 1;}#sk-container-id-3 div.sk-label:hover label.sk-toggleable__label {background-color: #d4ebff;}#sk-container-id-3 div.sk-serial::before {content: \"\";position: absolute;border-left: 1px solid gray;box-sizing: border-box;top: 0;bottom: 0;left: 50%;z-index: 0;}#sk-container-id-3 div.sk-serial {display: flex;flex-direction: column;align-items: center;background-color: white;padding-right: 0.2em;padding-left: 0.2em;position: relative;}#sk-container-id-3 div.sk-item {position: relative;z-index: 1;}#sk-container-id-3 div.sk-parallel {display: flex;align-items: stretch;justify-content: center;background-color: white;position: relative;}#sk-container-id-3 div.sk-item::before, #sk-container-id-3 div.sk-parallel-item::before {content: \"\";position: absolute;border-left: 1px solid gray;box-sizing: border-box;top: 0;bottom: 0;left: 50%;z-index: -1;}#sk-container-id-3 div.sk-parallel-item {display: flex;flex-direction: column;z-index: 1;position: relative;background-color: white;}#sk-container-id-3 div.sk-parallel-item:first-child::after {align-self: flex-end;width: 50%;}#sk-container-id-3 div.sk-parallel-item:last-child::after {align-self: flex-start;width: 50%;}#sk-container-id-3 div.sk-parallel-item:only-child::after {width: 0;}#sk-container-id-3 div.sk-dashed-wrapped {border: 1px dashed gray;margin: 0 0.4em 0.5em 0.4em;box-sizing: border-box;padding-bottom: 0.4em;background-color: white;}#sk-container-id-3 div.sk-label label {font-family: monospace;font-weight: bold;display: inline-block;line-height: 1.2em;}#sk-container-id-3 div.sk-label-container {text-align: center;}#sk-container-id-3 div.sk-container {/* jupyter's `normalize.less` sets `[hidden] { display: none; }` but bootstrap.min.css set `[hidden] { display: none !important; }` so we also need the `!important` here to be able to override the default hidden behavior on the sphinx rendered scikit-learn.org. See: https://github.com/scikit-learn/scikit-learn/issues/21755 */display: inline-block !important;position: relative;}#sk-container-id-3 div.sk-text-repr-fallback {display: none;}</style><div id=\"sk-container-id-3\" class=\"sk-top-container\"><div class=\"sk-text-repr-fallback\"><pre>StandardScaler()</pre><b>In a Jupyter environment, please rerun this cell to show the HTML representation or trust the notebook. <br />On GitHub, the HTML representation is unable to render, please try loading this page with nbviewer.org.</b></div><div class=\"sk-container\" hidden><div class=\"sk-item\"><div class=\"sk-estimator sk-toggleable\"><input class=\"sk-toggleable__control sk-hidden--visually\" id=\"sk-estimator-id-3\" type=\"checkbox\" checked><label for=\"sk-estimator-id-3\" class=\"sk-toggleable__label sk-toggleable__label-arrow\">StandardScaler</label><div class=\"sk-toggleable__content\"><pre>StandardScaler()</pre></div></div></div></div></div>"
      ],
      "text/plain": [
       "StandardScaler()"
      ]
     },
     "execution_count": 43,
     "metadata": {},
     "output_type": "execute_result"
    }
   ],
   "source": [
    "scaler.fit(X)"
   ]
  },
  {
   "cell_type": "code",
   "execution_count": 44,
   "metadata": {
    "executionInfo": {
     "elapsed": 622,
     "status": "ok",
     "timestamp": 1704377630962,
     "user": {
      "displayName": "Himanshu Aggarwal",
      "userId": "00022547391194973447"
     },
     "user_tz": -330
    },
    "id": "Eg7p7_Z60iEV"
   },
   "outputs": [],
   "source": [
    "standardizedData = scaler.transform(X)"
   ]
  },
  {
   "cell_type": "code",
   "execution_count": 45,
   "metadata": {
    "colab": {
     "base_uri": "https://localhost:8080/"
    },
    "executionInfo": {
     "elapsed": 5,
     "status": "ok",
     "timestamp": 1704377657137,
     "user": {
      "displayName": "Himanshu Aggarwal",
      "userId": "00022547391194973447"
     },
     "user_tz": -330
    },
    "id": "XG-6ehcE0tEP",
    "outputId": "a2d9d8c3-b440-4e7f-ba6f-706aa339fbed",
    "scrolled": true
   },
   "outputs": [
    {
     "name": "stdout",
     "output_type": "stream",
     "text": [
      "[[-0.0134747  -0.03747984 -0.01699672 ... -0.01464879 -0.01464879\n",
      "  -0.01464879]\n",
      " [-0.0134747  -0.03747984 -0.01699672 ... -0.01464879 -0.01464879\n",
      "  -0.01464879]\n",
      " [-0.0134747  -0.03747984 -0.01699672 ... -0.01464879 -0.01464879\n",
      "  -0.01464879]\n",
      " ...\n",
      " [-0.0134747  -0.03747984 -0.01699672 ... -0.01464879 -0.01464879\n",
      "  -0.01464879]\n",
      " [-0.0134747  -0.03747984 -0.01699672 ... -0.01464879 -0.01464879\n",
      "  -0.01464879]\n",
      " [-0.0134747  -0.03747984 -0.01699672 ... -0.01464879 -0.01464879\n",
      "  -0.01464879]]\n"
     ]
    }
   ],
   "source": [
    "print(standardizedData)"
   ]
  },
  {
   "cell_type": "code",
   "execution_count": 46,
   "metadata": {
    "colab": {
     "base_uri": "https://localhost:8080/"
    },
    "executionInfo": {
     "elapsed": 5,
     "status": "ok",
     "timestamp": 1704377932278,
     "user": {
      "displayName": "Himanshu Aggarwal",
      "userId": "00022547391194973447"
     },
     "user_tz": -330
    },
    "id": "xYoqmVuT1ymk",
    "outputId": "5ce02671-65ff-471d-e215-a58eee6e7024"
   },
   "outputs": [
    {
     "name": "stdout",
     "output_type": "stream",
     "text": [
      "        Default : Access DRM content. (S)  \\\n",
      "0                                       0   \n",
      "1                                       0   \n",
      "2                                       0   \n",
      "3                                       0   \n",
      "4                                       0   \n",
      "...                                   ...   \n",
      "121184                                  0   \n",
      "121185                                  0   \n",
      "121186                                  0   \n",
      "121187                                  0   \n",
      "121188                                  0   \n",
      "\n",
      "        Default : Access Email provider data (S)  \\\n",
      "0                                              0   \n",
      "1                                              0   \n",
      "2                                              0   \n",
      "3                                              0   \n",
      "4                                              0   \n",
      "...                                          ...   \n",
      "121184                                         0   \n",
      "121185                                         0   \n",
      "121186                                         0   \n",
      "121187                                         0   \n",
      "121188                                         0   \n",
      "\n",
      "        Default : Access all system downloads (S)  \\\n",
      "0                                               0   \n",
      "1                                               0   \n",
      "2                                               0   \n",
      "3                                               0   \n",
      "4                                               0   \n",
      "...                                           ...   \n",
      "121184                                          0   \n",
      "121185                                          0   \n",
      "121186                                          0   \n",
      "121187                                          0   \n",
      "121188                                          0   \n",
      "\n",
      "        Default : Access download manager. (S)  \\\n",
      "0                                            0   \n",
      "1                                            0   \n",
      "2                                            0   \n",
      "3                                            0   \n",
      "4                                            0   \n",
      "...                                        ...   \n",
      "121184                                       0   \n",
      "121185                                       0   \n",
      "121186                                       0   \n",
      "121187                                       0   \n",
      "121188                                       0   \n",
      "\n",
      "        Default : Advanced download manager functions. (S)  \\\n",
      "0                                                       0    \n",
      "1                                                       0    \n",
      "2                                                       0    \n",
      "3                                                       0    \n",
      "4                                                       0    \n",
      "...                                                   ...    \n",
      "121184                                                  0    \n",
      "121185                                                  0    \n",
      "121186                                                  0    \n",
      "121187                                                  0    \n",
      "121188                                                  0    \n",
      "\n",
      "        Default : Audio File Access (S)  Default : Install DRM content. (S)  \\\n",
      "0                                     0                                   0   \n",
      "1                                     0                                   0   \n",
      "2                                     0                                   0   \n",
      "3                                     0                                   0   \n",
      "4                                     0                                   0   \n",
      "...                                 ...                                 ...   \n",
      "121184                                0                                   0   \n",
      "121185                                1                                   0   \n",
      "121186                                0                                   0   \n",
      "121187                                0                                   0   \n",
      "121188                                0                                   0   \n",
      "\n",
      "        Default : Modify Google service configuration (S)  \\\n",
      "0                                                       0   \n",
      "1                                                       0   \n",
      "2                                                       0   \n",
      "3                                                       0   \n",
      "4                                                       0   \n",
      "...                                                   ...   \n",
      "121184                                                  0   \n",
      "121185                                                  0   \n",
      "121186                                                  0   \n",
      "121187                                                  0   \n",
      "121188                                                  0   \n",
      "\n",
      "        Default : Modify Google settings (S)  \\\n",
      "0                                          0   \n",
      "1                                          0   \n",
      "2                                          0   \n",
      "3                                          0   \n",
      "4                                          0   \n",
      "...                                      ...   \n",
      "121184                                     0   \n",
      "121185                                     0   \n",
      "121186                                     0   \n",
      "121187                                     0   \n",
      "121188                                     0   \n",
      "\n",
      "        Default : Move application resources (S)  ...  \\\n",
      "0                                              0  ...   \n",
      "1                                              0  ...   \n",
      "2                                              0  ...   \n",
      "3                                              0  ...   \n",
      "4                                              0  ...   \n",
      "...                                          ...  ...   \n",
      "121184                                         0  ...   \n",
      "121185                                         0  ...   \n",
      "121186                                         0  ...   \n",
      "121187                                         0  ...   \n",
      "121188                                         0  ...   \n",
      "\n",
      "         ACTION_NEW_OUTGOING_CALL    ACTION_REBOOT    ACTION_DOCK_EVENT   \\\n",
      "0                                0                0                    0   \n",
      "1                                0                0                    0   \n",
      "2                                0                0                    0   \n",
      "3                                0                0                    0   \n",
      "4                                0                0                    0   \n",
      "...                            ...              ...                  ...   \n",
      "121184                           0                0                    0   \n",
      "121185                           0                0                    0   \n",
      "121186                           0                0                    0   \n",
      "121187                           0                0                    0   \n",
      "121188                           0                0                    0   \n",
      "\n",
      "         ACTION_GET_RESTRICTION_ENTRIES    ACTION_USER_INITIALIZE   \\\n",
      "0                                      0                         0   \n",
      "1                                      0                         0   \n",
      "2                                      0                         0   \n",
      "3                                      0                         0   \n",
      "4                                      0                         0   \n",
      "...                                  ...                       ...   \n",
      "121184                                 0                         0   \n",
      "121185                                 0                         0   \n",
      "121186                                 0                         0   \n",
      "121187                                 0                         0   \n",
      "121188                                 0                         0   \n",
      "\n",
      "         ACTION_USER_FOREGROUND    ACTION_USER_BACKGROUND   \\\n",
      "0                              0                         0   \n",
      "1                              0                         0   \n",
      "2                              0                         0   \n",
      "3                              0                         0   \n",
      "4                              0                         0   \n",
      "...                          ...                       ...   \n",
      "121184                         0                         0   \n",
      "121185                         0                         0   \n",
      "121186                         0                         0   \n",
      "121187                         0                         0   \n",
      "121188                         0                         0   \n",
      "\n",
      "         ACTION_QUICK_CLOCK    ACTION_OPEN_DOCUMENT    ACTION_CREATE_DOCUMENT   \n",
      "0                          0                       0                         0  \n",
      "1                          0                       0                         0  \n",
      "2                          0                       0                         0  \n",
      "3                          0                       0                         0  \n",
      "4                          0                       0                         0  \n",
      "...                      ...                     ...                       ...  \n",
      "121184                     0                       0                         0  \n",
      "121185                     0                       0                         0  \n",
      "121186                     0                       0                         0  \n",
      "121187                     0                       0                         0  \n",
      "121188                     0                       0                         0  \n",
      "\n",
      "[121189 rows x 1427 columns]\n",
      "0         0\n",
      "1         0\n",
      "2         0\n",
      "3         0\n",
      "4         0\n",
      "         ..\n",
      "121184    1\n",
      "121185    1\n",
      "121186    1\n",
      "121187    1\n",
      "121188    1\n",
      "Name: OUTPUT, Length: 121189, dtype: int64\n"
     ]
    }
   ],
   "source": [
    "print(X)\n",
    "print(Y)"
   ]
  },
  {
   "cell_type": "markdown",
   "metadata": {
    "id": "1K1CNXEt1_do"
   },
   "source": [
    "Train Test Split"
   ]
  },
  {
   "cell_type": "code",
   "execution_count": 47,
   "metadata": {
    "executionInfo": {
     "elapsed": 481,
     "status": "ok",
     "timestamp": 1704378256629,
     "user": {
      "displayName": "Himanshu Aggarwal",
      "userId": "00022547391194973447"
     },
     "user_tz": -330
    },
    "id": "8UIlUPeu2DgG"
   },
   "outputs": [],
   "source": [
    "X_train, X_test, Y_train, Y_test = train_test_split(X,Y,test_size=0.3, stratify=Y,random_state=2)"
   ]
  },
  {
   "cell_type": "code",
   "execution_count": 48,
   "metadata": {
    "colab": {
     "base_uri": "https://localhost:8080/"
    },
    "executionInfo": {
     "elapsed": 488,
     "status": "ok",
     "timestamp": 1704378317478,
     "user": {
      "displayName": "Himanshu Aggarwal",
      "userId": "00022547391194973447"
     },
     "user_tz": -330
    },
    "id": "HLsU58eN3GzC",
    "outputId": "836f8fe7-9fdd-4391-c3af-999e141780d1"
   },
   "outputs": [
    {
     "name": "stdout",
     "output_type": "stream",
     "text": [
      "(121189, 1427) (84832, 1427) (36357, 1427)\n"
     ]
    }
   ],
   "source": [
    "print(X.shape, X_train.shape, X_test.shape)"
   ]
  },
  {
   "cell_type": "markdown",
   "metadata": {
    "id": "R6CzqPLR3V7x"
   },
   "source": [
    "Training the Model"
   ]
  },
  {
   "cell_type": "code",
   "execution_count": 49,
   "metadata": {
    "executionInfo": {
     "elapsed": 4,
     "status": "ok",
     "timestamp": 1704378373091,
     "user": {
      "displayName": "Himanshu Aggarwal",
      "userId": "00022547391194973447"
     },
     "user_tz": -330
    },
    "id": "AJGbeNCc3Yl8"
   },
   "outputs": [],
   "source": [
    "classifier = svm.SVC(kernel = 'linear')"
   ]
  },
  {
   "cell_type": "code",
   "execution_count": 50,
   "metadata": {
    "colab": {
     "base_uri": "https://localhost:8080/",
     "height": 74
    },
    "executionInfo": {
     "elapsed": 12,
     "status": "ok",
     "timestamp": 1704378410973,
     "user": {
      "displayName": "Himanshu Aggarwal",
      "userId": "00022547391194973447"
     },
     "user_tz": -330
    },
    "id": "y6LD5UqW3h1Y",
    "outputId": "e2fcb095-ae9f-417a-dbce-8e64ba10e3e3"
   },
   "outputs": [
    {
     "data": {
      "text/html": [
       "<style>#sk-container-id-4 {color: black;}#sk-container-id-4 pre{padding: 0;}#sk-container-id-4 div.sk-toggleable {background-color: white;}#sk-container-id-4 label.sk-toggleable__label {cursor: pointer;display: block;width: 100%;margin-bottom: 0;padding: 0.3em;box-sizing: border-box;text-align: center;}#sk-container-id-4 label.sk-toggleable__label-arrow:before {content: \"▸\";float: left;margin-right: 0.25em;color: #696969;}#sk-container-id-4 label.sk-toggleable__label-arrow:hover:before {color: black;}#sk-container-id-4 div.sk-estimator:hover label.sk-toggleable__label-arrow:before {color: black;}#sk-container-id-4 div.sk-toggleable__content {max-height: 0;max-width: 0;overflow: hidden;text-align: left;background-color: #f0f8ff;}#sk-container-id-4 div.sk-toggleable__content pre {margin: 0.2em;color: black;border-radius: 0.25em;background-color: #f0f8ff;}#sk-container-id-4 input.sk-toggleable__control:checked~div.sk-toggleable__content {max-height: 200px;max-width: 100%;overflow: auto;}#sk-container-id-4 input.sk-toggleable__control:checked~label.sk-toggleable__label-arrow:before {content: \"▾\";}#sk-container-id-4 div.sk-estimator input.sk-toggleable__control:checked~label.sk-toggleable__label {background-color: #d4ebff;}#sk-container-id-4 div.sk-label input.sk-toggleable__control:checked~label.sk-toggleable__label {background-color: #d4ebff;}#sk-container-id-4 input.sk-hidden--visually {border: 0;clip: rect(1px 1px 1px 1px);clip: rect(1px, 1px, 1px, 1px);height: 1px;margin: -1px;overflow: hidden;padding: 0;position: absolute;width: 1px;}#sk-container-id-4 div.sk-estimator {font-family: monospace;background-color: #f0f8ff;border: 1px dotted black;border-radius: 0.25em;box-sizing: border-box;margin-bottom: 0.5em;}#sk-container-id-4 div.sk-estimator:hover {background-color: #d4ebff;}#sk-container-id-4 div.sk-parallel-item::after {content: \"\";width: 100%;border-bottom: 1px solid gray;flex-grow: 1;}#sk-container-id-4 div.sk-label:hover label.sk-toggleable__label {background-color: #d4ebff;}#sk-container-id-4 div.sk-serial::before {content: \"\";position: absolute;border-left: 1px solid gray;box-sizing: border-box;top: 0;bottom: 0;left: 50%;z-index: 0;}#sk-container-id-4 div.sk-serial {display: flex;flex-direction: column;align-items: center;background-color: white;padding-right: 0.2em;padding-left: 0.2em;position: relative;}#sk-container-id-4 div.sk-item {position: relative;z-index: 1;}#sk-container-id-4 div.sk-parallel {display: flex;align-items: stretch;justify-content: center;background-color: white;position: relative;}#sk-container-id-4 div.sk-item::before, #sk-container-id-4 div.sk-parallel-item::before {content: \"\";position: absolute;border-left: 1px solid gray;box-sizing: border-box;top: 0;bottom: 0;left: 50%;z-index: -1;}#sk-container-id-4 div.sk-parallel-item {display: flex;flex-direction: column;z-index: 1;position: relative;background-color: white;}#sk-container-id-4 div.sk-parallel-item:first-child::after {align-self: flex-end;width: 50%;}#sk-container-id-4 div.sk-parallel-item:last-child::after {align-self: flex-start;width: 50%;}#sk-container-id-4 div.sk-parallel-item:only-child::after {width: 0;}#sk-container-id-4 div.sk-dashed-wrapped {border: 1px dashed gray;margin: 0 0.4em 0.5em 0.4em;box-sizing: border-box;padding-bottom: 0.4em;background-color: white;}#sk-container-id-4 div.sk-label label {font-family: monospace;font-weight: bold;display: inline-block;line-height: 1.2em;}#sk-container-id-4 div.sk-label-container {text-align: center;}#sk-container-id-4 div.sk-container {/* jupyter's `normalize.less` sets `[hidden] { display: none; }` but bootstrap.min.css set `[hidden] { display: none !important; }` so we also need the `!important` here to be able to override the default hidden behavior on the sphinx rendered scikit-learn.org. See: https://github.com/scikit-learn/scikit-learn/issues/21755 */display: inline-block !important;position: relative;}#sk-container-id-4 div.sk-text-repr-fallback {display: none;}</style><div id=\"sk-container-id-4\" class=\"sk-top-container\"><div class=\"sk-text-repr-fallback\"><pre>SVC(kernel=&#x27;linear&#x27;)</pre><b>In a Jupyter environment, please rerun this cell to show the HTML representation or trust the notebook. <br />On GitHub, the HTML representation is unable to render, please try loading this page with nbviewer.org.</b></div><div class=\"sk-container\" hidden><div class=\"sk-item\"><div class=\"sk-estimator sk-toggleable\"><input class=\"sk-toggleable__control sk-hidden--visually\" id=\"sk-estimator-id-4\" type=\"checkbox\" checked><label for=\"sk-estimator-id-4\" class=\"sk-toggleable__label sk-toggleable__label-arrow\">SVC</label><div class=\"sk-toggleable__content\"><pre>SVC(kernel=&#x27;linear&#x27;)</pre></div></div></div></div></div>"
      ],
      "text/plain": [
       "SVC(kernel='linear')"
      ]
     },
     "execution_count": 50,
     "metadata": {},
     "output_type": "execute_result"
    }
   ],
   "source": [
    "classifier.fit(X_train, Y_train)"
   ]
  },
  {
   "cell_type": "markdown",
   "metadata": {
    "id": "YEOcxp6x3v5T"
   },
   "source": [
    "Model Evaluation"
   ]
  },
  {
   "cell_type": "markdown",
   "metadata": {
    "id": "H4Ek1vW933oO"
   },
   "source": [
    "Accuracy Score"
   ]
  },
  {
   "cell_type": "code",
   "execution_count": 51,
   "metadata": {
    "executionInfo": {
     "elapsed": 3,
     "status": "ok",
     "timestamp": 1704378619758,
     "user": {
      "displayName": "Himanshu Aggarwal",
      "userId": "00022547391194973447"
     },
     "user_tz": -330
    },
    "id": "N_y_UFK13vaG"
   },
   "outputs": [],
   "source": [
    "#accuracy score on the training data\n",
    "X_train_prediction = classifier.predict(X_train)\n",
    "training_data_accuracy = accuracy_score(X_train_prediction,Y_train)"
   ]
  },
  {
   "cell_type": "code",
   "execution_count": 52,
   "metadata": {
    "colab": {
     "base_uri": "https://localhost:8080/"
    },
    "executionInfo": {
     "elapsed": 10,
     "status": "ok",
     "timestamp": 1704378685351,
     "user": {
      "displayName": "Himanshu Aggarwal",
      "userId": "00022547391194973447"
     },
     "user_tz": -330
    },
    "id": "rTPQMFUT4eyE",
    "outputId": "82a37bc1-b744-416e-eef0-535d7de3fbbf"
   },
   "outputs": [
    {
     "name": "stdout",
     "output_type": "stream",
     "text": [
      "accuracy score of the training data : 0.9856068464730291\n"
     ]
    }
   ],
   "source": [
    "print(f\"accuracy score of the training data : {training_data_accuracy}\")"
   ]
  },
  {
   "cell_type": "code",
   "execution_count": 53,
   "metadata": {
    "executionInfo": {
     "elapsed": 424,
     "status": "ok",
     "timestamp": 1704378762879,
     "user": {
      "displayName": "Himanshu Aggarwal",
      "userId": "00022547391194973447"
     },
     "user_tz": -330
    },
    "id": "_PgzGIxn4xdw"
   },
   "outputs": [],
   "source": [
    "#accuracy score on the testing data\n",
    "X_test_prediction = classifier.predict(X_test)\n",
    "testing_data_accuracy = accuracy_score(X_test_prediction,Y_test)"
   ]
  },
  {
   "cell_type": "code",
   "execution_count": 54,
   "metadata": {
    "colab": {
     "base_uri": "https://localhost:8080/"
    },
    "executionInfo": {
     "elapsed": 443,
     "status": "ok",
     "timestamp": 1704378784161,
     "user": {
      "displayName": "Himanshu Aggarwal",
      "userId": "00022547391194973447"
     },
     "user_tz": -330
    },
    "id": "Mvtzam_95Bod",
    "outputId": "ead8b741-dc27-4382-ef9c-aa4b8a7f9aad"
   },
   "outputs": [
    {
     "name": "stdout",
     "output_type": "stream",
     "text": [
      "accuracy score of the testing data : 0.9852573094589763\n"
     ]
    }
   ],
   "source": [
    "print(f\"accuracy score of the testing data : {testing_data_accuracy}\")"
   ]
  },
  {
   "cell_type": "markdown",
   "metadata": {
    "id": "Nei9w9OH5bWi"
   },
   "source": [
    "Making a Predictive System"
   ]
  },
  {
   "cell_type": "code",
   "execution_count": 56,
   "metadata": {
    "colab": {
     "base_uri": "https://localhost:8080/"
    },
    "executionInfo": {
     "elapsed": 493,
     "status": "ok",
     "timestamp": 1704379768884,
     "user": {
      "displayName": "Himanshu Aggarwal",
      "userId": "00022547391194973447"
     },
     "user_tz": -330
    },
    "id": "Bfxl_1m-5UtV",
    "outputId": "a3c1611d-3f25-46c8-cd4c-dabf8c9235dc"
   },
   "outputs": [
    {
     "name": "stdout",
     "output_type": "stream",
     "text": [
      "[[0 0 0 ... 0 0 0]]\n",
      "The apk is safe\n"
     ]
    },
    {
     "name": "stderr",
     "output_type": "stream",
     "text": [
      "B:\\anaconda\\Lib\\site-packages\\sklearn\\base.py:464: UserWarning: X does not have valid feature names, but StandardScaler was fitted with feature names\n",
      "  warnings.warn(\n",
      "B:\\anaconda\\Lib\\site-packages\\sklearn\\base.py:464: UserWarning: X does not have valid feature names, but SVC was fitted with feature names\n",
      "  warnings.warn(\n"
     ]
    }
   ],
   "source": [
    "input_data = (0,0,0,0,0,0,0,0,0,0,0,0,0,0,0,0,0,0,0,0,0,0,0,0,0,0,0,0,0,0,0,0,0,0,0,0,0,0,0,0,0,0,0,0,0,0,0,0,0,0,0,0,0,0,0,0,0,0,0,0,0,0,0,0,0,0,0,0,0,0,1,0,0,0,0,0,1,0,0,0,1,0,0,0,0,0,1,0,1,0,0,0,0,0,0,0,0,0,0,0,0,0,0,0,0,0,0,0,0,0,0,0,0,0,0,0,0,0,0,0,0,0,0,0,0,0,0,0,0,0,0,0,0,0,0,0,0,0,0,0,0,0,0,0,1,1,0,0,0,0,0,0,0,0,0,0,0,0,0,0,0,0,0,0,0,0,0,0,0,0,0,0,0,0,0,0,0,0,0,0,0,0,0,0,0,0,0,0,0,0,0,0,0,0,0,0,0,0,0,0,0,0,0,0,0,0,0,0,0,0,0,0,0,0,0,0,0,0,0,0,0,0,0,0,0,0,0,0,0,0,0,0,0,0,0,0,0,0,0,0,0,0,0,0,0,0,0,0,0,0,0,0,0,0,0,0,0,0,0,0,0,0,0,0,0,0,0,0,0,0,0,0,0,0,0,0,0,0,0,0,0,0,0,0,0,0,0,0,0,0,0,0,0,0,0,0,0,0,0,0,0,0,0,0,0,0,0,0,0,0,0,0,0,0,0,0,0,0,0,0,0,0,0,0,0,0,0,0,0,0,0,0,0,0,0,0,0,0,0,0,0,0,0,0,0,0,0,0,0,0,0,0,0,0,0,0,0,0,0,0,0,0,0,0,0,0,0,0,0,0,0,0,0,0,0,0,0,0,0,0,0,0,0,0,0,0,0,0,0,0,0,0,0,0,0,0,0,0,0,0,0,0,0,0,0,0,0,0,0,0,0,0,0,0,0,0,0,0,0,0,0,0,0,0,0,0,0,0,0,0,0,0,0,0,0,0,0,0,0,0,0,0,0,0,0,0,0,0,0,0,0,0,0,0,0,0,0,0,0,0,0,0,0,0,0,0,0,0,0,0,0,0,0,0,0,0,0,0,0,0,0,0,0,0,0,0,0,0,0,0,0,0,0,0,0,0,0,0,0,0,0,0,0,0,0,0,0,0,0,0,0,0,0,0,0,0,0,0,0,0,0,0,0,0,0,0,0,0,0,0,0,0,0,0,0,0,0,0,0,0,0,0,0,0,0,0,0,0,0,0,0,0,0,0,0,0,0,0,0,0,0,0,0,0,0,0,0,0,0,0,0,0,0,0,0,0,0,0,0,0,0,0,0,0,0,0,0,0,0,0,0,0,0,0,0,0,0,0,0,0,0,0,0,0,0,0,0,0,0,0,0,0,0,0,0,0,0,0,0,0,0,0,0,0,0,0,0,0,0,0,0,0,0,0,0,0,0,0,0,0,0,0,0,0,0,0,0,0,0,0,0,0,0,0,0,0,0,0,0,0,0,0,0,0,0,0,0,0,0,0,0,0,0,0,0,0,0,0,0,0,0,0,0,0,0,0,0,0,0,0,0,0,0,0,0,0,0,0,0,0,0,0,0,0,0,0,0,0,0,0,0,0,0,0,0,0,0,0,0,0,0,0,0,0,0,0,0,0,0,0,0,0,0,0,0,0,0,0,0,0,0,0,0,0,0,0,0,0,0,0,0,0,0,0,0,0,0,0,0,0,0,0,0,0,0,0,0,0,0,0,0,0,0,0,0,0,0,0,0,0,0,0,0,0,0,0,0,0,0,0,0,0,0,0,0,0,0,0,0,0,0,0,0,0,0,0,0,0,0,0,0,0,0,0,0,0,0,0,0,0,0,0,0,0,0,0,0,0,0,0,0,0,0,0,0,0,0,0,0,0,0,0,0,0,0,0,0,0,0,0,0,0,0,0,0,0,0,0,0,0,0,0,0,0,0,0,0,0,0,0,0,0,0,0,0,0,0,0,0,0,0,0,0,0,0,0,0,0,0,0,0,0,0,0,0,0,0,0,0,0,0,0,0,0,0,0,0,0,0,0,0,0,0,0,0,0,0,0,0,0,0,0,0,0,0,0,0,0,0,0,0,0,0,0,0,0,0,0,0,0,0,0,0,0,0,0,0,0,0,0,0,0,0,0,0,0,0,0,0,0,0,0,0,0,0,0,0,0,0,0,0,0,0,0,0,0,0,0,0,0,0,0,0,0,0,0,0,0,0,0,0,0,0,0,0,0,0,0,0,0,0,0,0,0,0,0,0,0,0,0,0,0,0,0,0,0,0,0,0,0,0,0,0,0,0,0,0,0,0,0,0,0,0,0,0,0,0,0,0,0,0,0,0,0,0,0,0,0,0,0,0,0,0,0,0,0,0,0,0,0,0,0,0,0,0,0,0,0,0,0,0,0,0,0,0,0,0,0,0,0,0,0,0,0,0,0,0,0,0,0,0,0,0,0,0,0,0,0,0,0,0,0,0,0,0,0,0,0,0,0,0,0,0,0,0,0,0,0,0,0,0,0,0,0,0,0,0,0,0,0,0,0,0,0,0,0,0,0,0,0,0,0,0,0,0,0,0,0,0,0,0,0,0,0,0,0,0,0,0,0,0,0,0,0,0,0,0,0,0,0,0,0,0,0,0,0,0,0,0,0,0,0,0,0,0,0,0,0,0,0,0,0,0,0,0,0,0,0,0,0,0,0,0,0,0,0,0,0,0,0,0,0,0,0,0,0,0,0,0,0,0,0,0,0,0,0,0,0,0,0,0,0,0,0,0,0,0,0,0,0,0,0,0,0,0,0,0,0,0,0,0,0,0,0,0,0,0,0,0,0,0,0,0,0,0,0,0,0,0,0,0,0,0,0,0,0,0,0,0,0,0,0,0,0,0,0,0,0,0,0,0,0,0,0,0,0,0,0,0,0,0,0,0,0,0,0,0,0,0,0,0,0,0,0,0,0,0,0,0,0,0,0,0,0,0,0,0,0,0,0,0,0,0,0,0,0,0,0,0,0,0,0,0,0,0,0,0,0,0,0,0,0,0,0,0,0,0,0,0,0,0,0,0,0,0,0,0,0,0,0,0,0,0,0,0,0,0,0,0,0,0,0,0,0,0,0,0,0,0,0,0,0,0,0,0,0,0,0,0,0,0,0,0,0,0,0,0,0,0,0,0,0,0,0,0,0,0,0,0,0,0,0,0,0,0,0,0)\n",
    "#changing the input data to numpy array\n",
    "\n",
    "input_data= np.array(input_data)\n",
    "\n",
    "#reshaping the array as we are predicting for one instance\n",
    "\n",
    "input_data_reshaped = input_data.reshape(1,-1)\n",
    "print(input_data_reshaped)\n",
    "\n",
    "# Standardized the input data\n",
    "\n",
    "stdData = scaler.transform(input_data_reshaped)\n",
    "\n",
    "# print(stdData)\n",
    "\n",
    "prediction = classifier.predict(stdData)\n",
    "\n",
    "# print(prediction)\n",
    "\n",
    "if prediction[0]==0:\n",
    "  print(\"The apk is safe\")\n",
    "else:\n",
    "  print(\"The apk is unsafe\")"
   ]
  },
  {
   "cell_type": "code",
   "execution_count": 57,
   "metadata": {},
   "outputs": [],
   "source": [
    "from joblib import dump"
   ]
  },
  {
   "cell_type": "code",
   "execution_count": null,
   "metadata": {},
   "outputs": [],
   "source": []
  }
 ],
 "metadata": {
  "colab": {
   "authorship_tag": "ABX9TyMQ1DF+sAtlgSId8RgR2syX",
   "provenance": []
  },
  "kernelspec": {
   "display_name": "Python 3 (ipykernel)",
   "language": "python",
   "name": "python3"
  },
  "language_info": {
   "codemirror_mode": {
    "name": "ipython",
    "version": 3
   },
   "file_extension": ".py",
   "mimetype": "text/x-python",
   "name": "python",
   "nbconvert_exporter": "python",
   "pygments_lexer": "ipython3",
   "version": "3.11.4"
  }
 },
 "nbformat": 4,
 "nbformat_minor": 1
}
